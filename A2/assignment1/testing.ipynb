{
 "cells": [
  {
   "cell_type": "code",
   "execution_count": 10,
   "metadata": {},
   "outputs": [],
   "source": [
    "import numpy as np\n",
    "from cs231n.classifiers.neural_net import TwoLayerNet"
   ]
  },
  {
   "cell_type": "code",
   "execution_count": 11,
   "metadata": {},
   "outputs": [],
   "source": [
    "DEBUG=True\n",
    "def dprint(*args):\n",
    "    if DEBUG:\n",
    "        print(*args)"
   ]
  },
  {
   "cell_type": "code",
   "execution_count": 12,
   "metadata": {},
   "outputs": [
    {
     "name": "stdout",
     "output_type": "stream",
     "text": [
      "N, D 5 4\n"
     ]
    }
   ],
   "source": [
    "input_size = 4\n",
    "hidden_size = 10\n",
    "num_classes = 3\n",
    "num_inputs = 5\n",
    "def init_toy_model():\n",
    "    np.random.seed(0)\n",
    "    return TwoLayerNet(input_size, hidden_size, num_classes, std=1e-1)\n",
    "def init_toy_data():\n",
    "    np.random.seed(1)\n",
    "    X = 10 * np.random.randn(num_inputs, input_size)\n",
    "    y = np.array([0, 1, 2, 2, 1])\n",
    "    return X, y\n",
    "net = init_toy_model()\n",
    "X, y = init_toy_data()\n",
    "reg = 0.0\n",
    "N, D = X.shape\n",
    "dprint('N, D', N, D)"
   ]
  },
  {
   "cell_type": "code",
   "execution_count": 13,
   "metadata": {},
   "outputs": [],
   "source": [
    "def prod(X, net=net):\n",
    "    dprint('X', X.shape)\n",
    "    W1, b1 = net.params['W1'], net.params['b1']\n",
    "    dprint('W1, b1', W1.shape, b1.shape)\n",
    "    W2, b2 = net.params['W2'], net.params['b2']\n",
    "    dprint('W2, b2', W2.shape, b2)\n",
    "    z = np.dot(X, W1) + b1 # weights multiplied with input data, with bias term b1 added\n",
    "    dprint('z', z.shape)\n",
    "    g = np.where(z > 0, z, 0) # ReLU activation function, negative values set to 0.\n",
    "    dprint('g', g.shape)\n",
    "    scores = np.dot(g, W2) + b2 # second set of weights multiplied with activated outputs, with second bias term b2 added.\n",
    "    dprint('scores', scores.shape)\n",
    "\n",
    "    return scores, (g, W1, b1, W2, b2)"
   ]
  },
  {
   "cell_type": "code",
   "execution_count": 14,
   "metadata": {},
   "outputs": [],
   "source": [
    "def softmax(_scores, N=N):\n",
    "    escores = np.exp(_scores)\n",
    "    probs = escores.T / sum(escores.T)\n",
    "    return probs.T"
   ]
  },
  {
   "cell_type": "code",
   "execution_count": 15,
   "metadata": {},
   "outputs": [],
   "source": [
    "def avg_cross_entropy_data_loss(norm_scores):\n",
    "    y_true_mask = np.zeros_like(norm_scores)\n",
    "    y_true_mask[np.arange(N), y] = 1\n",
    "    cel = -np.mean(sum(y_true_mask.T * np.log(norm_scores).T))\n",
    "    return cel\n",
    "def L2_regularization_loss(reg, W_list, scaling_factor=0.5):\n",
    "    norm_sum = 0\n",
    "    for W in W_list:\n",
    "        norm_sum += np.sum(W**2) # **2 is a squaring operation; this is like taking the euclidean norm of the weight vectors\n",
    "    # a scaling factor is often used to \"make the derivatives nicer\" \n",
    "    # ie. have smaller magnitude values for stability of gradient descent\n",
    "    reg_loss = reg*norm_sum*scaling_factor\n",
    "    return reg_loss"
   ]
  },
  {
   "cell_type": "code",
   "execution_count": 16,
   "metadata": {},
   "outputs": [
    {
     "name": "stdout",
     "output_type": "stream",
     "text": [
      "X (5, 4)\n",
      "W1, b1 (4, 10) (10,)\n",
      "W2, b2 (10, 3) [0. 0. 0.]\n",
      "z (5, 10)\n",
      "g (5, 10)\n",
      "scores (5, 3)\n"
     ]
    }
   ],
   "source": [
    "scores, params = prod(X)\n",
    "g, W1, b1, W2, b2 = params\n",
    "probs = softmax(scores)"
   ]
  },
  {
   "cell_type": "code",
   "execution_count": 18,
   "metadata": {},
   "outputs": [
    {
     "data": {
      "text/plain": [
       "1.2658570521180537"
      ]
     },
     "execution_count": 18,
     "metadata": {},
     "output_type": "execute_result"
    }
   ],
   "source": [
    "loss = avg_cross_entropy_data_loss(probs) + L2_regularization_loss(reg, [W1, W2])\n",
    "loss"
   ]
  },
  {
   "cell_type": "code",
   "execution_count": 26,
   "metadata": {},
   "outputs": [
    {
     "data": {
      "text/plain": [
       "array([2, 4, 6])"
      ]
     },
     "execution_count": 26,
     "metadata": {},
     "output_type": "execute_result"
    }
   ],
   "source": [
    "np.sum([[1,2,3], [1,2,3]], axis=0)\n",
    "# sum([1,2,3])"
   ]
  },
  {
   "cell_type": "code",
   "execution_count": 19,
   "metadata": {},
   "outputs": [],
   "source": [
    "dprob = probs.copy()\n",
    "dprob[np.arange(N), y] -= 1  # Only for the true y values\n",
    "# dprob /= N\n",
    "db2 = sum(dprob) / N\n",
    "dW2 = np.dot(g.T, dprob) / N\n",
    "dz = np.dot(dprob, W2.T)\n",
    "dz[g <= 0] = 0\n",
    "db1 = sum(dz) / N \n",
    "dW1 = np.dot(X.T, dz) / N\n",
    "dW2 += reg*W2\n",
    "dW1 += reg*W1\n"
   ]
  },
  {
   "cell_type": "code",
   "execution_count": 27,
   "metadata": {},
   "outputs": [
    {
     "data": {
      "text/plain": [
       "array([[-0.6355379 ,  0.22911264,  0.40642526],\n",
       "       [ 0.47590629, -0.82782961,  0.35192332],\n",
       "       [ 0.43035767,  0.26164229, -0.69199996],\n",
       "       [ 0.41583127,  0.2983228 , -0.71415407],\n",
       "       [ 0.36328815, -0.67720061,  0.31391246]])"
      ]
     },
     "execution_count": 27,
     "metadata": {},
     "output_type": "execute_result"
    }
   ],
   "source": [
    "dprob"
   ]
  },
  {
   "cell_type": "code",
   "execution_count": 28,
   "metadata": {},
   "outputs": [
    {
     "data": {
      "text/plain": [
       "array([ 1.04984549, -0.7159525 , -0.33389299])"
      ]
     },
     "execution_count": 28,
     "metadata": {},
     "output_type": "execute_result"
    }
   ],
   "source": [
    "sum(dprob)"
   ]
  },
  {
   "cell_type": "code",
   "execution_count": 29,
   "metadata": {},
   "outputs": [
    {
     "data": {
      "text/plain": [
       "array([ 1.04984549, -0.7159525 , -0.33389299])"
      ]
     },
     "execution_count": 29,
     "metadata": {},
     "output_type": "execute_result"
    }
   ],
   "source": [
    "np.sum(dprob,axis=0)"
   ]
  },
  {
   "cell_type": "code",
   "execution_count": null,
   "metadata": {},
   "outputs": [],
   "source": []
  }
 ],
 "metadata": {
  "kernelspec": {
   "display_name": "ece495asn",
   "language": "python",
   "name": "python3"
  },
  "language_info": {
   "codemirror_mode": {
    "name": "ipython",
    "version": 3
   },
   "file_extension": ".py",
   "mimetype": "text/x-python",
   "name": "python",
   "nbconvert_exporter": "python",
   "pygments_lexer": "ipython3",
   "version": "3.9.15"
  },
  "orig_nbformat": 4,
  "vscode": {
   "interpreter": {
    "hash": "b3ea734a83e68e0b36ffcd2bf0a5eb9f0e67de5837ff11fa0d1496113042f1d6"
   }
  }
 },
 "nbformat": 4,
 "nbformat_minor": 2
}
